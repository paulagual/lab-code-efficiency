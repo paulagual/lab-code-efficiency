{
 "cells": [
  {
   "cell_type": "markdown",
   "metadata": {},
   "source": [
    "# Challenge 1\n",
    "\n",
    "This is a dumb calculator that can add and subtract whole numbers from zero to five.\n",
    "When you run the code, you are prompted to enter two numbers (in the form of English\n",
    "word instead of number) and the operator sign (also in the form of English word).\n",
    "The code will perform the calculation and give the result if your input is what it\n",
    "expects.\n",
    "\n",
    "The code is very long and messy. Refactor it according to what you have learned about\n",
    "code simplicity and efficiency."
   ]
  },
  {
   "cell_type": "code",
   "execution_count": 8,
   "metadata": {},
   "outputs": [
    {
     "name": "stdout",
     "output_type": "stream",
     "text": [
      "Welcome to this calculator!\n",
      "It can add and subtract whole numbers from zero to five\n",
      "Please choose your first number (zero to five): one\n",
      "What do you want to do? plus or minus: plus\n",
      "Please choose your second number (zero to five): one\n",
      "one plus one equals two\n"
     ]
    }
   ],
   "source": [
    "print('Welcome to this calculator!')\n",
    "print('It can add and subtract whole numbers from zero to five')\n",
    "a = input('Please choose your first number (zero to five): ')\n",
    "b = input('What do you want to do? plus or minus: ')\n",
    "c = input('Please choose your second number (zero to five): ')\n",
    "\n",
    "num_dic = {'one': 1, 'two':2, 'three':3, 'four': 4, 'five':5, 'six':6, 'seven':7, 'eight':8, 'nine': 9, 'ten':10}\n",
    "\n",
    "try:\n",
    "    a_num = num_dic[a]\n",
    "    c_num = num_dic[c]\n",
    "except:\n",
    "    print(\"I am not able to answer this question. Check your input.\")\n",
    "\n",
    "if b == 'plus':\n",
    "    sol_num = a_num + c_num\n",
    "elif b == 'minus': \n",
    "    sol_num = a_num - c_num    \n",
    "else: #error\n",
    "    print(\"I am not able to answer this question. Check your input.\")\n",
    "\n",
    "try:\n",
    "    sol = [name for name, value in num_dic.items() if value == sol_num]\n",
    "    print(\"%s %s %s equals %s\" % (a,b,c,''.join(sol)))\n",
    "except:    \n",
    "    print(\"I am not able to answer this question. Check your input.\")\n",
    "\n",
    "print(\"Thanks for using this calculator, goodbye :)\")"
   ]
  }
 ],
 "metadata": {
  "kernelspec": {
   "display_name": "Python 3",
   "language": "python",
   "name": "python3"
  },
  "language_info": {
   "codemirror_mode": {
    "name": "ipython",
    "version": 3
   },
   "file_extension": ".py",
   "mimetype": "text/x-python",
   "name": "python",
   "nbconvert_exporter": "python",
   "pygments_lexer": "ipython3",
   "version": "3.7.3"
  }
 },
 "nbformat": 4,
 "nbformat_minor": 2
}
